{
 "cells": [
  {
   "cell_type": "markdown",
   "metadata": {},
   "source": [
    "# Problem"
   ]
  },
  {
   "cell_type": "markdown",
   "metadata": {
    "deletable": true,
    "editable": true
   },
   "source": [
    "The Data engineering team often has to deal with dependency of redshift.  This is very important because you cannot drop a view with dropping everything that depends on it. \n",
    "Assume you have a table with all the views and table of redshift.\n",
    "\n",
    "Given that you want to drop a view “VIEW NAME”,  \n",
    "write a code that generates the order of which   \n",
    "we need to drop all the views that dependent on the view.  \n",
    "The “source” view depends on the “dependent” view or table."
   ]
  },
  {
   "cell_type": "markdown",
   "metadata": {
    "deletable": true,
    "editable": true
   },
   "source": [
    "# Solution"
   ]
  },
  {
   "cell_type": "markdown",
   "metadata": {
    "deletable": true,
    "editable": true
   },
   "source": [
    "| source | dependent |\n",
    "|---|---|\n",
    "| A | B|\n",
    "| A | C|\n",
    "|B | D|\n"
   ]
  },
  {
   "cell_type": "markdown",
   "metadata": {
    "deletable": true,
    "editable": true
   },
   "source": [
    "So let me restate the problem as I understand it. Given the table above, We cannot delete B or C until A is deleted. Because A depends on B and C, and we cannot drop a view without first dropping everything that depends on it. By the same logic, we cannot delete D until B and also A (because it is a source that depends on B) is deleted. If we were given 'A' as the view_name argument for our function, we would want it to return ['A']. If we were given 'D' as the view name argument for our function, we would want it to return ['A', 'B', 'D']\n",
    "\n",
    "This seems like an example of a topological sort, so our function should convert the dataframe into a graph data structure and then perform a depth first search on that graph."
   ]
  },
  {
   "cell_type": "code",
   "execution_count": 1,
   "metadata": {
    "collapsed": false,
    "deletable": true,
    "editable": true
   },
   "outputs": [],
   "source": [
    "import pandas as pd\n",
    "from collections import defaultdict, deque"
   ]
  },
  {
   "cell_type": "code",
   "execution_count": 2,
   "metadata": {
    "collapsed": false
   },
   "outputs": [],
   "source": [
    "def dfs(graph, start, visited, dependency_order):\n",
    "    if start not in visited:\n",
    "        visited.add(start)\n",
    "        for view in graph[start]:\n",
    "            dfs(graph, view, visited, dependency_order)\n",
    "        dependency_order.append(start)"
   ]
  },
  {
   "cell_type": "code",
   "execution_count": 3,
   "metadata": {
    "collapsed": false,
    "deletable": true,
    "editable": true
   },
   "outputs": [],
   "source": [
    "def get_view_dependency(df, view_name):\n",
    "    \"\"\"\n",
    "        df: A dataframe with the table ‘Dependency’\n",
    "        view_name: the view that we want to drop\n",
    "    \n",
    "    OUTPUT:\n",
    "        List : An ordered list of all the view dependency.  Row n should not depend on anything after that row.\n",
    "    \"\"\"\n",
    "    dependency_graph = defaultdict(list)\n",
    "    for index, row in df.iterrows():\n",
    "        dependency_graph[row['dependent']].append(row['source'])\n",
    "    # Now we want to perform a depth first search of the graph\n",
    "    visited = set()\n",
    "    views_to_delete = []\n",
    "    dfs(dependency_graph, view_name, visited, views_to_delete)\n",
    "    return views_to_delete"
   ]
  },
  {
   "cell_type": "code",
   "execution_count": 4,
   "metadata": {
    "collapsed": false,
    "deletable": true,
    "editable": true
   },
   "outputs": [],
   "source": [
    "example_dependency = {\n",
    "    \"source\": [1,2,2,1,1,3,9,7,6,1,12,11,5],\n",
    "    \"dependent\": [2,3,4,3,5,7,10,11,12,6,13,13,6],\n",
    "}\n",
    "dependency_df = pd.DataFrame(data=example_dependency)"
   ]
  },
  {
   "cell_type": "code",
   "execution_count": 5,
   "metadata": {
    "collapsed": false
   },
   "outputs": [
    {
     "name": "stdout",
     "output_type": "stream",
     "text": [
      "defaultdict(<class 'list'>, {2: [1], 3: [2, 1], 4: [2], 5: [1], 6: [1, 5], 7: [3], 10: [9], 11: [7], 12: [6], 13: [12, 11]})\n"
     ]
    }
   ],
   "source": [
    "dependency_graph = defaultdict(list)\n",
    "for index, row in dependency_df.iterrows():\n",
    "    dependency_graph[row['dependent']].append(row['source'])\n",
    "print(dependency_graph)"
   ]
  },
  {
   "cell_type": "markdown",
   "metadata": {
    "deletable": true,
    "editable": true
   },
   "source": [
    "In this example, 1 depends on 2,3, and 5. 2 depends on 3 and 4. And so on...\n",
    "So we cannot drop 2,3, or 5 prior to dropping 1."
   ]
  },
  {
   "cell_type": "code",
   "execution_count": 6,
   "metadata": {
    "collapsed": false,
    "deletable": true,
    "editable": true
   },
   "outputs": [
    {
     "name": "stdout",
     "output_type": "stream",
     "text": [
      "    dependent  source\n",
      "0           2       1\n",
      "1           3       2\n",
      "2           4       2\n",
      "3           3       1\n",
      "4           5       1\n",
      "5           7       3\n",
      "6          10       9\n",
      "7          11       7\n",
      "8          12       6\n",
      "9           6       1\n",
      "10         13      12\n",
      "11         13      11\n",
      "12          6       5\n"
     ]
    }
   ],
   "source": [
    "print(dependency_df)"
   ]
  },
  {
   "cell_type": "code",
   "execution_count": 7,
   "metadata": {
    "collapsed": false,
    "deletable": true,
    "editable": true
   },
   "outputs": [
    {
     "data": {
      "text/plain": [
       "[1]"
      ]
     },
     "execution_count": 7,
     "metadata": {},
     "output_type": "execute_result"
    }
   ],
   "source": [
    "#expect this to return [1]\n",
    "get_view_dependency(dependency_df, 1)"
   ]
  },
  {
   "cell_type": "code",
   "execution_count": 8,
   "metadata": {
    "collapsed": false,
    "deletable": true,
    "editable": true
   },
   "outputs": [
    {
     "data": {
      "text/plain": [
       "[1, 2, 3]"
      ]
     },
     "execution_count": 8,
     "metadata": {},
     "output_type": "execute_result"
    }
   ],
   "source": [
    "#expect this to return [1,2,3]\n",
    "get_view_dependency(dependency_df, 3)"
   ]
  },
  {
   "cell_type": "code",
   "execution_count": 9,
   "metadata": {
    "collapsed": false,
    "deletable": true,
    "editable": true
   },
   "outputs": [
    {
     "data": {
      "text/plain": [
       "[1, 5, 6, 12, 2, 3, 7, 11, 13]"
      ]
     },
     "execution_count": 9,
     "metadata": {},
     "output_type": "execute_result"
    }
   ],
   "source": [
    "#expect this to return [1, 5, 6, 12, 2, 3, 7, 11, 13]\n",
    "get_view_dependency(dependency_df, 13)"
   ]
  },
  {
   "cell_type": "code",
   "execution_count": 10,
   "metadata": {
    "collapsed": true
   },
   "outputs": [],
   "source": [
    "original_dependency = {\n",
    "    \"source\": [\"A\",\"A\",\"B\"],\n",
    "    \"dependent\": [\"B\", \"C\", \"D\"],\n",
    "}"
   ]
  },
  {
   "cell_type": "code",
   "execution_count": 11,
   "metadata": {
    "collapsed": false
   },
   "outputs": [
    {
     "name": "stdout",
     "output_type": "stream",
     "text": [
      "  dependent source\n",
      "0         B      A\n",
      "1         C      A\n",
      "2         D      B\n"
     ]
    }
   ],
   "source": [
    "new_df = pd.DataFrame(data=original_dependency)\n",
    "print(new_df)"
   ]
  },
  {
   "cell_type": "code",
   "execution_count": 12,
   "metadata": {
    "collapsed": false
   },
   "outputs": [
    {
     "data": {
      "text/plain": [
       "['A']"
      ]
     },
     "execution_count": 12,
     "metadata": {},
     "output_type": "execute_result"
    }
   ],
   "source": [
    "# should return ['A']\n",
    "get_view_dependency(new_df, \"A\")"
   ]
  },
  {
   "cell_type": "code",
   "execution_count": 17,
   "metadata": {
    "collapsed": false
   },
   "outputs": [
    {
     "data": {
      "text/plain": [
       "['A', 'B', 'D']"
      ]
     },
     "execution_count": 17,
     "metadata": {},
     "output_type": "execute_result"
    }
   ],
   "source": [
    "# should return ['A', 'B', 'D']\n",
    "get_view_dependency(new_df, \"D\")"
   ]
  },
  {
   "cell_type": "markdown",
   "metadata": {
    "collapsed": true,
    "deletable": true,
    "editable": true
   },
   "source": [
    "# Extra Credit Problem"
   ]
  },
  {
   "cell_type": "markdown",
   "metadata": {
    "collapsed": true,
    "deletable": true,
    "editable": true
   },
   "source": [
    "How do generate a query that can drop and create the views?"
   ]
  },
  {
   "cell_type": "code",
   "execution_count": 14,
   "metadata": {
    "collapsed": true,
    "deletable": true,
    "editable": true
   },
   "outputs": [],
   "source": [
    "def generate_view_drop_sql(view_names):\n",
    "    drop_view_template = \"DROP VIEW IF EXISTS {};\"\n",
    "    start = \"begin;\"\n",
    "    end = \"end;\"\n",
    "    \n",
    "    all_drop_statements = []\n",
    "    for view_name in view_names:\n",
    "        all_drop_statements.append(drop_view_template.format(view_name))\n",
    "        \n",
    "    full_query = start + \" \".join(all_drop_statements) + end\n",
    "    return full_query"
   ]
  },
  {
   "cell_type": "code",
   "execution_count": 15,
   "metadata": {
    "collapsed": false,
    "deletable": true,
    "editable": true
   },
   "outputs": [
    {
     "data": {
      "text/plain": [
       "'begin;DROP VIEW IF EXISTS users; DROP VIEW IF EXISTS subscriptions;end;'"
      ]
     },
     "execution_count": 15,
     "metadata": {},
     "output_type": "execute_result"
    }
   ],
   "source": [
    "generate_view_drop_sql([\"users\", \"subscriptions\"])"
   ]
  },
  {
   "cell_type": "code",
   "execution_count": 16,
   "metadata": {
    "collapsed": false,
    "deletable": true,
    "editable": true
   },
   "outputs": [
    {
     "data": {
      "text/plain": [
       "'begin;DROP VIEW IF EXISTS A; DROP VIEW IF EXISTS B; DROP VIEW IF EXISTS D;end;'"
      ]
     },
     "execution_count": 16,
     "metadata": {},
     "output_type": "execute_result"
    }
   ],
   "source": [
    "generate_view_drop_sql(get_view_dependency(new_df, \"D\"))"
   ]
  }
 ],
 "metadata": {
  "kernelspec": {
   "display_name": "Python 3",
   "language": "python",
   "name": "python3"
  },
  "language_info": {
   "codemirror_mode": {
    "name": "ipython",
    "version": 3
   },
   "file_extension": ".py",
   "mimetype": "text/x-python",
   "name": "python",
   "nbconvert_exporter": "python",
   "pygments_lexer": "ipython3",
   "version": "3.5.0"
  }
 },
 "nbformat": 4,
 "nbformat_minor": 2
}
